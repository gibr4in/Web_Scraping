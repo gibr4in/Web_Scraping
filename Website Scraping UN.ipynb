{
 "cells": [
  {
   "cell_type": "markdown",
   "id": "b2b5cdbd-fdee-4a86-9e4d-9021078e6c31",
   "metadata": {},
   "source": [
    "# Practice Exercise: Countries registered in the UN\n",
    "**by: Gibrán Mendoza Magaña**"
   ]
  },
  {
   "cell_type": "markdown",
   "id": "e3eb477c-f18c-48d8-bee6-bb2b1a1df633",
   "metadata": {},
   "source": [
    "---"
   ]
  },
  {
   "cell_type": "markdown",
   "id": "25e33619-36c9-46c6-8dc9-3473c2dc63eb",
   "metadata": {},
   "source": [
    "## Introduction"
   ]
  },
  {
   "cell_type": "markdown",
   "id": "993906fd-c197-4433-b3f9-414131bb446e",
   "metadata": {},
   "source": [
    "When analysing world data, it can be challenging merging different datasets especially when the spelling of the country in a database might defer from that of the other data sources. This is why the ISO code of a country comes in handy. Swaziland? Eswatini? Try SWZ instead. Czech Republic? Czechia? Let's use CZE."
   ]
  },
  {
   "cell_type": "markdown",
   "id": "8811e1bc-fe57-4cac-b0c8-7e2cc1760c3a",
   "metadata": {},
   "source": [
    "## Objective"
   ]
  },
  {
   "cell_type": "markdown",
   "id": "04dfa55b-e1d7-416e-99bb-2726ce8bdd65",
   "metadata": {},
   "source": [
    "In this notebook, a function is created to retrieve the list of country names (in English) and ISO code for each country from the United Nations Statistics Division website."
   ]
  },
  {
   "cell_type": "markdown",
   "id": "810fe594-1f30-438a-980a-197fb37964fd",
   "metadata": {},
   "source": [
    "## Setup"
   ]
  },
  {
   "cell_type": "markdown",
   "id": "e12aa674-babe-43fc-ba03-5bdf6d82af42",
   "metadata": {},
   "source": [
    "For this project, the following libraries were used:\n",
    "\n",
    "* urllib.- A python package that provides several modules for working with URLs, such as opening, reading, parsing, and handling errors.\n",
    "* requests.- A python library that simplifies working with HTTP requests. It allows you to send and receive data from web services with different methods, such as GET, POST, PUT, and DELETE\n",
    "* BeautifulSoup.- A Python library that helps you extract data from HTML and XML files.\n",
    "* Pandas.- A Python library that allows you to create manipulable data structures (DataFrames), among it's functionalities are: reading and saving csv an xlsx files.\n",
    "* io.- A Python Library that allows you to manage the file-related input and output operations of python."
   ]
  },
  {
   "cell_type": "markdown",
   "id": "b89057b2-414f-49c3-8817-4b4499edc003",
   "metadata": {},
   "source": [
    "## Libraries"
   ]
  },
  {
   "cell_type": "code",
   "execution_count": 1,
   "id": "11866c3d-0d00-4cb0-ab77-a0803f30841e",
   "metadata": {},
   "outputs": [],
   "source": [
    "import os\n",
    "import pandas as pd\n",
    "import requests\n",
    "from bs4 import BeautifulSoup\n",
    "import urllib.request\n",
    "import numpy as np"
   ]
  },
  {
   "cell_type": "code",
   "execution_count": 2,
   "id": "abafd888-32a0-4105-bc90-e64afecc1225",
   "metadata": {},
   "outputs": [],
   "source": [
    "path = os.getcwd()"
   ]
  },
  {
   "cell_type": "markdown",
   "id": "c74b79e2-dc24-4682-ae6f-be66af1bb8c8",
   "metadata": {},
   "source": [
    "## Setting our url"
   ]
  },
  {
   "cell_type": "code",
   "execution_count": 3,
   "id": "a88961cc-d9fb-47db-8235-5fc3e2a68f61",
   "metadata": {},
   "outputs": [],
   "source": [
    "# Send an HTTP GET request to the URL\n",
    "#We define our user agent (what type of client is making the request)\n",
    "headers = {'User-Agent': 'Mozilla/5.0 (Windows NT 10.0; Win64; x64) AppleWebKit/537.36 (KHTML, like Gecko) Chrome/99.0.9999.99 Safari/537.36'}\n",
    "#This is the URL to the United Nations Statistics Division website\n",
    "url = \"https://unstats.un.org/unsd/methodology/m49/\""
   ]
  },
  {
   "cell_type": "code",
   "execution_count": 4,
   "id": "282f17b3-e221-4c5f-9e7c-aa4770f19404",
   "metadata": {},
   "outputs": [],
   "source": [
    "def get_country_members(url, headers):\n",
    "    '''\n",
    "    This function creates a beautifulsoup that parses the url provided, then finds all the elements on the table with countries \n",
    "    and ISO codes in the website. Finally, the list of countries and iso are transpose into a single pandas dataframe.\n",
    "    \n",
    "    param url: the url of the UN Members page, with a list of url linking to the about country webpage.\n",
    "    param headers: a dictionary that defines the user agent doing this request\n",
    "    \n",
    "    return: pandas dataframe with a country name (in English) in the first column, and the country's ISO in the second column\n",
    "    '''\n",
    "    \n",
    "    def get_parsed_html(url, headers):\n",
    "        '''\n",
    "        param url: string of a url to be scraped\n",
    "        param headers: a dictionary that defines the user agent doing this request\n",
    "        return: bs4.BeautifulSoup\n",
    "        '''\n",
    "        mybytes = urllib.request.urlopen(urllib.request.Request(url, headers=headers)).read().decode(\"utf8\")\n",
    "        return BeautifulSoup(mybytes, features=\"lxml\")\n",
    "\n",
    "    def get_download_urls(parsed_html):\n",
    "        '''\n",
    "        param parsed_html: bs4.BeautifulSoup object\n",
    "        return: list of country name, M49 code, and ISO code. \n",
    "        Each of these values are located in a separate row. i.e ['Afghanistan','004','AFG',...]\n",
    "        '''\n",
    "        \n",
    "        eng_data = parsed_html.body.find('div', attrs={'id':'ENG_COUNTRIES'})\n",
    "        table_data = eng_data.find_all('td')\n",
    "        countries = [country.text.strip() for country in table_data]\n",
    "        return countries\n",
    "    \n",
    "    def format_countries(countries):\n",
    "        '''\n",
    "        param countries: list\n",
    "        return: pandas dataframe with country name in first column \n",
    "        and ISO code in second column\n",
    "        '''\n",
    "        \n",
    "        country_name = countries[::3]\n",
    "        country_iso = countries[2:][::3]\n",
    "        \n",
    "        countries_iso = pd.DataFrame({'Country':country_name, 'ISO':country_iso})\n",
    "\n",
    "        return countries_iso\n",
    "\n",
    "    parsed_html = get_parsed_html(url, headers)\n",
    "    \n",
    "    countries = get_download_urls(parsed_html)\n",
    "        \n",
    "    countries_iso = format_countries(countries)\n",
    "    \n",
    "    return countries_iso"
   ]
  },
  {
   "cell_type": "markdown",
   "id": "145e1087-7354-4df5-b88e-a167f28a6fa7",
   "metadata": {},
   "source": [
    "### Countries and Regions listed in the United Nations"
   ]
  },
  {
   "cell_type": "code",
   "execution_count": 5,
   "id": "fdd4b781-0b7c-4d7d-95f5-a3c8f9ddce21",
   "metadata": {},
   "outputs": [],
   "source": [
    "UN_countries = get_country_members(url, headers)"
   ]
  },
  {
   "cell_type": "code",
   "execution_count": 6,
   "id": "a1ebf713-84fc-4e82-8c9b-02f40fcc9bde",
   "metadata": {},
   "outputs": [
    {
     "data": {
      "text/plain": [
       "(248, 2)"
      ]
     },
     "execution_count": 6,
     "metadata": {},
     "output_type": "execute_result"
    }
   ],
   "source": [
    "UN_countries.shape"
   ]
  },
  {
   "cell_type": "code",
   "execution_count": 7,
   "id": "2d696276-e088-477c-85a1-1830ed5af1fd",
   "metadata": {},
   "outputs": [
    {
     "data": {
      "text/html": [
       "<div>\n",
       "<style scoped>\n",
       "    .dataframe tbody tr th:only-of-type {\n",
       "        vertical-align: middle;\n",
       "    }\n",
       "\n",
       "    .dataframe tbody tr th {\n",
       "        vertical-align: top;\n",
       "    }\n",
       "\n",
       "    .dataframe thead th {\n",
       "        text-align: right;\n",
       "    }\n",
       "</style>\n",
       "<table border=\"1\" class=\"dataframe\">\n",
       "  <thead>\n",
       "    <tr style=\"text-align: right;\">\n",
       "      <th></th>\n",
       "      <th>Country</th>\n",
       "      <th>ISO</th>\n",
       "    </tr>\n",
       "  </thead>\n",
       "  <tbody>\n",
       "    <tr>\n",
       "      <th>0</th>\n",
       "      <td>Afghanistan</td>\n",
       "      <td>AFG</td>\n",
       "    </tr>\n",
       "    <tr>\n",
       "      <th>1</th>\n",
       "      <td>Åland Islands</td>\n",
       "      <td>ALA</td>\n",
       "    </tr>\n",
       "    <tr>\n",
       "      <th>2</th>\n",
       "      <td>Albania</td>\n",
       "      <td>ALB</td>\n",
       "    </tr>\n",
       "    <tr>\n",
       "      <th>3</th>\n",
       "      <td>Algeria</td>\n",
       "      <td>DZA</td>\n",
       "    </tr>\n",
       "    <tr>\n",
       "      <th>4</th>\n",
       "      <td>American Samoa</td>\n",
       "      <td>ASM</td>\n",
       "    </tr>\n",
       "  </tbody>\n",
       "</table>\n",
       "</div>"
      ],
      "text/plain": [
       "          Country  ISO\n",
       "0     Afghanistan  AFG\n",
       "1   Åland Islands  ALA\n",
       "2         Albania  ALB\n",
       "3         Algeria  DZA\n",
       "4  American Samoa  ASM"
      ]
     },
     "execution_count": 7,
     "metadata": {},
     "output_type": "execute_result"
    }
   ],
   "source": [
    "UN_countries.head()"
   ]
  },
  {
   "cell_type": "code",
   "execution_count": 8,
   "id": "4156616e",
   "metadata": {},
   "outputs": [
    {
     "data": {
      "text/html": [
       "<div>\n",
       "<style scoped>\n",
       "    .dataframe tbody tr th:only-of-type {\n",
       "        vertical-align: middle;\n",
       "    }\n",
       "\n",
       "    .dataframe tbody tr th {\n",
       "        vertical-align: top;\n",
       "    }\n",
       "\n",
       "    .dataframe thead th {\n",
       "        text-align: right;\n",
       "    }\n",
       "</style>\n",
       "<table border=\"1\" class=\"dataframe\">\n",
       "  <thead>\n",
       "    <tr style=\"text-align: right;\">\n",
       "      <th></th>\n",
       "      <th>Country</th>\n",
       "      <th>ISO</th>\n",
       "    </tr>\n",
       "  </thead>\n",
       "  <tbody>\n",
       "    <tr>\n",
       "      <th>243</th>\n",
       "      <td>Wallis and Futuna Islands</td>\n",
       "      <td>WLF</td>\n",
       "    </tr>\n",
       "    <tr>\n",
       "      <th>244</th>\n",
       "      <td>Western Sahara</td>\n",
       "      <td>ESH</td>\n",
       "    </tr>\n",
       "    <tr>\n",
       "      <th>245</th>\n",
       "      <td>Yemen</td>\n",
       "      <td>YEM</td>\n",
       "    </tr>\n",
       "    <tr>\n",
       "      <th>246</th>\n",
       "      <td>Zambia</td>\n",
       "      <td>ZMB</td>\n",
       "    </tr>\n",
       "    <tr>\n",
       "      <th>247</th>\n",
       "      <td>Zimbabwe</td>\n",
       "      <td>ZWE</td>\n",
       "    </tr>\n",
       "  </tbody>\n",
       "</table>\n",
       "</div>"
      ],
      "text/plain": [
       "                       Country  ISO\n",
       "243  Wallis and Futuna Islands  WLF\n",
       "244             Western Sahara  ESH\n",
       "245                      Yemen  YEM\n",
       "246                     Zambia  ZMB\n",
       "247                   Zimbabwe  ZWE"
      ]
     },
     "execution_count": 8,
     "metadata": {},
     "output_type": "execute_result"
    }
   ],
   "source": [
    "UN_countries.tail()"
   ]
  }
 ],
 "metadata": {
  "kernelspec": {
   "display_name": "Python 3 (ipykernel)",
   "language": "python",
   "name": "python3"
  },
  "language_info": {
   "codemirror_mode": {
    "name": "ipython",
    "version": 3
   },
   "file_extension": ".py",
   "mimetype": "text/x-python",
   "name": "python",
   "nbconvert_exporter": "python",
   "pygments_lexer": "ipython3",
   "version": "3.9.13"
  }
 },
 "nbformat": 4,
 "nbformat_minor": 5
}
